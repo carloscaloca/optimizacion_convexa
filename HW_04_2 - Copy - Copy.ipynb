{
  "nbformat": 4,
  "nbformat_minor": 0,
  "metadata": {
    "colab": {
      "name": "HW 04.2.ipynb",
      "provenance": []
    },
    "kernelspec": {
      "name": "python3",
      "display_name": "Python 3"
    },
    "language_info": {
      "name": "python"
    }
  },
  "cells": [
    {
      "cell_type": "code",
      "source": [
        "!pip install gplearn"
      ],
      "metadata": {
        "id": "uDpP8CnHpF-I"
      },
      "execution_count": null,
      "outputs": []
    },
    {
      "cell_type": "code",
      "execution_count": 6,
      "metadata": {
        "id": "blQ1iUwAND8E"
      },
      "outputs": [],
      "source": [
        "from gplearn.genetic import SymbolicTransformer\n",
        "from sklearn.utils import check_random_state\n",
        "from sklearn.datasets import load_boston\n",
        "import numpy as np\n",
        "import pandas as pd\n",
        "from sklearn.linear_model import Ridge"
      ]
    },
    {
      "cell_type": "code",
      "source": [
        "rng = check_random_state(0)\n",
        "boston = load_boston()\n",
        "perm = rng.permutation(boston.target.size)\n",
        "boston.data = boston.data[perm]\n",
        "boston.target = boston.target[perm]"
      ],
      "metadata": {
        "id": "0u47YK95oabg"
      },
      "execution_count": null,
      "outputs": []
    },
    {
      "cell_type": "code",
      "source": [
        "est = Ridge()\n",
        "est.fit(boston.data[:300, :], boston.target[:300])\n",
        "print(est.score(boston.data[300:, :], boston.target[300:]))"
      ],
      "metadata": {
        "colab": {
          "base_uri": "https://localhost:8080/"
        },
        "id": "pir1K-CFpNuk",
        "outputId": "31b76bc0-0321-439f-b7e2-8a4c12a04d31"
      },
      "execution_count": 8,
      "outputs": [
        {
          "output_type": "stream",
          "name": "stdout",
          "text": [
            "0.759319453049884\n"
          ]
        }
      ]
    },
    {
      "cell_type": "code",
      "source": [
        "function_set = ['add', 'sub', 'mul', 'div',\n",
        "                'sqrt', 'log', 'abs', 'neg', 'inv',\n",
        "                'max', 'min']\n",
        "gp = SymbolicTransformer(generations=20, population_size=2000,\n",
        "                         hall_of_fame=100, n_components=10,\n",
        "                         function_set=function_set,\n",
        "                         parsimony_coefficient=0.0005,\n",
        "                         max_samples=0.9, verbose=1,\n",
        "                         random_state=0, n_jobs=3)\n",
        "gp.fit(boston.data[:300, :], boston.target[:300])"
      ],
      "metadata": {
        "colab": {
          "base_uri": "https://localhost:8080/"
        },
        "id": "Vn1-kKvApfyK",
        "outputId": "8b239332-514f-4fed-87d7-de5248504604"
      },
      "execution_count": 9,
      "outputs": [
        {
          "output_type": "stream",
          "name": "stdout",
          "text": [
            "    |   Population Average    |             Best Individual              |\n",
            "---- ------------------------- ------------------------------------------ ----------\n",
            " Gen   Length          Fitness   Length          Fitness      OOB Fitness  Time Left\n",
            "   0    11.04         0.339876        6         0.822502         0.675124      1.84m\n",
            "   1     6.91         0.593562        7         0.836993         0.602468      1.23m\n",
            "   2     5.07         0.730093        8          0.84063         0.704017      2.11m\n",
            "   3     5.22         0.735525        5         0.847019         0.628351      1.29m\n",
            "   4     6.24         0.734679       10         0.856612         0.565138      1.43m\n",
            "   5     8.23         0.721433       18          0.85677         0.728095      1.15m\n",
            "   6    10.20         0.717937       14         0.875233         0.619693      1.17m\n",
            "   7    11.84         0.720667       14         0.875927         0.609363      1.02m\n",
            "   8    12.56         0.733019       27         0.881705         0.390121     59.07s\n",
            "   9    13.61          0.73144       16         0.873285         0.598466     55.77s\n",
            "  10    14.81         0.737687       16         0.873915          0.67127     50.02s\n",
            "  11    14.84          0.73787       21         0.874944         0.467722     46.70s\n",
            "  12    15.40         0.740935       22         0.878053         0.534554     41.19s\n",
            "  13    16.83         0.743265       15         0.874735         0.635764     34.84s\n",
            "  14    17.04         0.741628       13         0.884417         0.493354     30.29s\n",
            "  15    17.02         0.744034       26         0.892236         0.647918     24.00s\n",
            "  16    18.23         0.738467       43         0.879153         0.377872     18.14s\n",
            "  17    18.09         0.722973       16         0.889763         0.508006     12.32s\n",
            "  18    19.58          0.70793       27         0.889402         0.639016      6.06s\n",
            "  19    21.69         0.697116       24         0.888272          0.56025      0.00s\n"
          ]
        },
        {
          "output_type": "execute_result",
          "data": {
            "text/plain": [
              "SymbolicTransformer(function_set=['add', 'sub', 'mul', 'div', 'sqrt', 'log',\n",
              "                                  'abs', 'neg', 'inv', 'max', 'min'],\n",
              "                    max_samples=0.9, n_jobs=3, parsimony_coefficient=0.0005,\n",
              "                    population_size=2000, random_state=0, verbose=1)"
            ]
          },
          "metadata": {},
          "execution_count": 9
        }
      ]
    },
    {
      "cell_type": "code",
      "source": [
        "gp_features = gp.transform(boston.data)\n",
        "new_boston = np.hstack((boston.data, gp_features))"
      ],
      "metadata": {
        "id": "-1cgCiKOpi1n"
      },
      "execution_count": 10,
      "outputs": []
    },
    {
      "cell_type": "code",
      "source": [
        "est = Ridge()\n",
        "est.fit(new_boston[:300, :], boston.target[:300])\n",
        "print(est.score(new_boston[300:, :], boston.target[300:]))"
      ],
      "metadata": {
        "colab": {
          "base_uri": "https://localhost:8080/"
        },
        "id": "Li2Fl5qQpmkE",
        "outputId": "821dd318-0d87-4ef2-c9cc-69ae25d74ff9"
      },
      "execution_count": 11,
      "outputs": [
        {
          "output_type": "stream",
          "name": "stdout",
          "text": [
            "0.8418372105182054\n"
          ]
        }
      ]
    },
    {
      "cell_type": "markdown",
      "source": [
        "We see that when we applied Ridge Estimator to previous dataset without any symbolic transformer , The R-square value was lower i.e approx 75 % of variance , however when we applied the Symbolic transformer to the new dataset we get the R-square value as 0.84 i.e approx 84 % of variance of data in the estimation"
      ],
      "metadata": {
        "id": "C53R0409qEju"
      }
    }
  ]
}