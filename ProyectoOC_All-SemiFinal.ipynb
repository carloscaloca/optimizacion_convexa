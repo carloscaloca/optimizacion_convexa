{
 "cells": [
  {
   "cell_type": "markdown",
   "metadata": {},
   "source": [
    "# Health Tracking System\n",
    "## Análisis de Regresión\n",
    "\n",
    "## Optimización Convexa - Mayo 2022\n",
    "\n",
    "***Ashwin Bhat***\n",
    "\n",
    "***Carlos Caloca Gomez***\n",
    "\n",
    "***Daniel Lagunas Barba***\n",
    "\n",
    "***Leonardo Razo Islas***\n",
    "\n",
    "***Antonio Sepúveda Angulo***\n",
    "\n",
    "\n",
    "\n",
    "**Introducción**\n",
    "\n",
    "Los productores de carne de pollo tienen como objetivo, de manera muy general, convertir de manera más eficiente los granos que consumen sus aves en carne. Existen muchas métricas y variables que se evalúan durante el crecimiento del pollo como: \n",
    "-\tConversión alimenticia\n",
    "-\tGanancia de peso diario\n",
    "-\tMortandad\n",
    "-\tMortalidad\n",
    "-\tIntegridad Intestinal\n",
    "-\tIntegridad Respiratoria\n",
    "-\tIncidencia de enfermades\n",
    "-\tPeso final\n",
    "\n",
    "Todas ellas estas relacionadas entre sí y son utilizadas para verificar como crecen las parvadas y cual es la rentabilidad del negocio. La métrica de Integridad Intestinal es utilizada de manera subclínica para indicar cual es la calidad con la cual el pollo está procesando el alimento y si presenta alguna lesión interna que nos ayuda a identificar problemas de nutrición, bioseguridad y salud. Para obtener está métrica se requiere hacer un muestreo de al menos 5 aves por edad por caseta por parvada y realizar una necropsia detallada donde se revisan alrededor de 60 partes de órganos del ave, ingresarlas a un software llamado HTS y te dará 2 resultados: Integridad Intestinal e Integridad Respiratoria.\n"
   ]
  },
  {
   "cell_type": "code",
   "execution_count": 29,
   "metadata": {},
   "outputs": [],
   "source": [
    "import pandas as pd\n",
    "import seaborn as sns\n",
    "import matplotlib.pyplot as plt\n",
    "import numpy as np\n",
    "from sklearn import linear_model\n",
    "from sklearn.model_selection import train_test_split\n",
    "from sklearn import svm\n",
    "from sklearn.svm import SVR\n",
    "from sklearn.pipeline import make_pipeline\n",
    "from sklearn.preprocessing import StandardScaler\n",
    "from sklearn.model_selection import GridSearchCV\n",
    "from sklearn.metrics import *"
   ]
  },
  {
   "cell_type": "code",
   "execution_count": 3,
   "metadata": {
    "colab": {
     "base_uri": "https://localhost:8080/",
     "height": 235
    },
    "executionInfo": {
     "elapsed": 186,
     "status": "error",
     "timestamp": 1652199326268,
     "user": {
      "displayName": "ashwin bhat",
      "userId": "06685235675778711727"
     },
     "user_tz": 300
    },
    "id": "gPQdH16KFtMF",
    "outputId": "fa4bc1f6-ec79-4b64-edda-5d4673ca0640"
   },
   "outputs": [],
   "source": [
    "df_db_1435 = pd.read_excel('c:\\Proyect\\db_1419_all.xlsx',sheet_name='Sheet1')"
   ]
  },
  {
   "cell_type": "code",
   "execution_count": 4,
   "metadata": {
    "colab": {
     "base_uri": "https://localhost:8080/",
     "height": 236
    },
    "executionInfo": {
     "elapsed": 167,
     "status": "ok",
     "timestamp": 1650392711155,
     "user": {
      "displayName": "leonardo razo islas",
      "userId": "02744200947474546211"
     },
     "user_tz": 300
    },
    "id": "IPpdKO7uI_dD",
    "outputId": "0de44118-2323-4e38-d573-23bc47001e64"
   },
   "outputs": [
    {
     "data": {
      "text/html": [
       "<div>\n",
       "<style scoped>\n",
       "    .dataframe tbody tr th:only-of-type {\n",
       "        vertical-align: middle;\n",
       "    }\n",
       "\n",
       "    .dataframe tbody tr th {\n",
       "        vertical-align: top;\n",
       "    }\n",
       "\n",
       "    .dataframe thead th {\n",
       "        text-align: right;\n",
       "    }\n",
       "</style>\n",
       "<table border=\"1\" class=\"dataframe\">\n",
       "  <thead>\n",
       "    <tr style=\"text-align: right;\">\n",
       "      <th></th>\n",
       "      <th>Aflt</th>\n",
       "      <th>Customer</th>\n",
       "      <th>PostingMonth</th>\n",
       "      <th>PostingYear</th>\n",
       "      <th>Age</th>\n",
       "      <th>AgePhase</th>\n",
       "      <th>Breed</th>\n",
       "      <th>Bird</th>\n",
       "      <th>a</th>\n",
       "      <th>AB</th>\n",
       "      <th>...</th>\n",
       "      <th>SX</th>\n",
       "      <th>TDS</th>\n",
       "      <th>TH</th>\n",
       "      <th>THY</th>\n",
       "      <th>TK</th>\n",
       "      <th>TN</th>\n",
       "      <th>TRA</th>\n",
       "      <th>TW</th>\n",
       "      <th>WC</th>\n",
       "      <th>I2</th>\n",
       "    </tr>\n",
       "  </thead>\n",
       "  <tbody>\n",
       "    <tr>\n",
       "      <th>0</th>\n",
       "      <td>MX</td>\n",
       "      <td>716</td>\n",
       "      <td>November</td>\n",
       "      <td>2016</td>\n",
       "      <td>14</td>\n",
       "      <td>2</td>\n",
       "      <td>Arbor Acres</td>\n",
       "      <td>1</td>\n",
       "      <td>0.0</td>\n",
       "      <td>0</td>\n",
       "      <td>...</td>\n",
       "      <td>0</td>\n",
       "      <td>0</td>\n",
       "      <td>0</td>\n",
       "      <td>0</td>\n",
       "      <td>0</td>\n",
       "      <td>0</td>\n",
       "      <td>0</td>\n",
       "      <td>0</td>\n",
       "      <td>0</td>\n",
       "      <td>94</td>\n",
       "    </tr>\n",
       "    <tr>\n",
       "      <th>1</th>\n",
       "      <td>MX</td>\n",
       "      <td>716</td>\n",
       "      <td>November</td>\n",
       "      <td>2016</td>\n",
       "      <td>14</td>\n",
       "      <td>2</td>\n",
       "      <td>Arbor Acres</td>\n",
       "      <td>2</td>\n",
       "      <td>0.0</td>\n",
       "      <td>0</td>\n",
       "      <td>...</td>\n",
       "      <td>0</td>\n",
       "      <td>0</td>\n",
       "      <td>0</td>\n",
       "      <td>0</td>\n",
       "      <td>0</td>\n",
       "      <td>0</td>\n",
       "      <td>0</td>\n",
       "      <td>0</td>\n",
       "      <td>0</td>\n",
       "      <td>100</td>\n",
       "    </tr>\n",
       "    <tr>\n",
       "      <th>2</th>\n",
       "      <td>MX</td>\n",
       "      <td>716</td>\n",
       "      <td>November</td>\n",
       "      <td>2016</td>\n",
       "      <td>14</td>\n",
       "      <td>2</td>\n",
       "      <td>Arbor Acres</td>\n",
       "      <td>5</td>\n",
       "      <td>0.0</td>\n",
       "      <td>0</td>\n",
       "      <td>...</td>\n",
       "      <td>0</td>\n",
       "      <td>0</td>\n",
       "      <td>0</td>\n",
       "      <td>0</td>\n",
       "      <td>0</td>\n",
       "      <td>0</td>\n",
       "      <td>0</td>\n",
       "      <td>0</td>\n",
       "      <td>0</td>\n",
       "      <td>100</td>\n",
       "    </tr>\n",
       "    <tr>\n",
       "      <th>3</th>\n",
       "      <td>MX</td>\n",
       "      <td>716</td>\n",
       "      <td>November</td>\n",
       "      <td>2016</td>\n",
       "      <td>14</td>\n",
       "      <td>2</td>\n",
       "      <td>Arbor Acres</td>\n",
       "      <td>3</td>\n",
       "      <td>0.0</td>\n",
       "      <td>0</td>\n",
       "      <td>...</td>\n",
       "      <td>0</td>\n",
       "      <td>0</td>\n",
       "      <td>0</td>\n",
       "      <td>0</td>\n",
       "      <td>0</td>\n",
       "      <td>0</td>\n",
       "      <td>0</td>\n",
       "      <td>0</td>\n",
       "      <td>0</td>\n",
       "      <td>92</td>\n",
       "    </tr>\n",
       "    <tr>\n",
       "      <th>4</th>\n",
       "      <td>MX</td>\n",
       "      <td>716</td>\n",
       "      <td>November</td>\n",
       "      <td>2016</td>\n",
       "      <td>14</td>\n",
       "      <td>2</td>\n",
       "      <td>Arbor Acres</td>\n",
       "      <td>4</td>\n",
       "      <td>0.0</td>\n",
       "      <td>0</td>\n",
       "      <td>...</td>\n",
       "      <td>0</td>\n",
       "      <td>0</td>\n",
       "      <td>0</td>\n",
       "      <td>0</td>\n",
       "      <td>0</td>\n",
       "      <td>0</td>\n",
       "      <td>0</td>\n",
       "      <td>0</td>\n",
       "      <td>0</td>\n",
       "      <td>100</td>\n",
       "    </tr>\n",
       "  </tbody>\n",
       "</table>\n",
       "<p>5 rows × 73 columns</p>\n",
       "</div>"
      ],
      "text/plain": [
       "  Aflt  Customer PostingMonth  PostingYear  Age  AgePhase        Breed  Bird  \\\n",
       "0   MX       716     November         2016   14         2  Arbor Acres     1   \n",
       "1   MX       716     November         2016   14         2  Arbor Acres     2   \n",
       "2   MX       716     November         2016   14         2  Arbor Acres     5   \n",
       "3   MX       716     November         2016   14         2  Arbor Acres     3   \n",
       "4   MX       716     November         2016   14         2  Arbor Acres     4   \n",
       "\n",
       "     a  AB  ...  SX  TDS  TH  THY  TK  TN  TRA  TW  WC   I2  \n",
       "0  0.0   0  ...   0    0   0    0   0   0    0   0   0   94  \n",
       "1  0.0   0  ...   0    0   0    0   0   0    0   0   0  100  \n",
       "2  0.0   0  ...   0    0   0    0   0   0    0   0   0  100  \n",
       "3  0.0   0  ...   0    0   0    0   0   0    0   0   0   92  \n",
       "4  0.0   0  ...   0    0   0    0   0   0    0   0   0  100  \n",
       "\n",
       "[5 rows x 73 columns]"
      ]
     },
     "execution_count": 4,
     "metadata": {},
     "output_type": "execute_result"
    }
   ],
   "source": [
    "# Se imprime los primeros 5 registro de la tabla \n",
    "\n",
    "df_db_1435.head(5)"
   ]
  },
  {
   "cell_type": "code",
   "execution_count": 5,
   "metadata": {
    "colab": {
     "base_uri": "https://localhost:8080/"
    },
    "executionInfo": {
     "elapsed": 222,
     "status": "ok",
     "timestamp": 1651941034909,
     "user": {
      "displayName": "ashwin bhat",
      "userId": "06685235675778711727"
     },
     "user_tz": 300
    },
    "id": "qABPr_u5I_hq",
    "outputId": "7d12b7cf-1b74-415e-cb89-2e319d6f38d3"
   },
   "outputs": [
    {
     "data": {
      "text/plain": [
       "Index(['Aflt', 'Customer', 'PostingMonth', 'PostingYear', 'Age', 'AgePhase',\n",
       "       'Breed', 'Bird', 'a', 'AB', 'AC', 'AP', 'Ars', 'b', 'BDM', 'BF', 'BL',\n",
       "       'BOW', 'BOX', 'BSM', 'BTL', 'Bur', 'BUW', 'CCS', 'Cdv', 'CFM', 'CL',\n",
       "       'Clr', 'CM', 'CS', 'DC', 'FH', 'FP', 'gAC', 'gBR', 'Giz', 'gMI', 'gMx',\n",
       "       'gNX', 'gTN', 'GUL', 'GUW', 'HK', 'HY', 'IH', 'IP', 'IT', 'L', 'LE',\n",
       "       'MC', 'ML', 'mMX', 'NE', 'OM', 'PL', 'PRV', 'RI', 'RKT', 'RW', 'RY',\n",
       "       'SC', 'SH', 'SPW', 'SX', 'TDS', 'TH', 'THY', 'TK', 'TN', 'TRA', 'TW',\n",
       "       'WC', 'I2'],\n",
       "      dtype='object')"
      ]
     },
     "execution_count": 5,
     "metadata": {},
     "output_type": "execute_result"
    }
   ],
   "source": [
    "# Columnas\n",
    "\n",
    "df_db_1435.columns"
   ]
  },
  {
   "cell_type": "code",
   "execution_count": 6,
   "metadata": {
    "id": "u6SpiJdVQBQt"
   },
   "outputs": [],
   "source": [
    "# Remover las columnas de integridad respratoria, para dejar exclusivamente las lesiones de Integridad Intestinal\n",
    "\n",
    "df_db_1435.drop(['Ars','AP','TRA','RI'],axis=1,inplace=True)"
   ]
  },
  {
   "cell_type": "code",
   "execution_count": 7,
   "metadata": {
    "colab": {
     "base_uri": "https://localhost:8080/"
    },
    "executionInfo": {
     "elapsed": 163,
     "status": "ok",
     "timestamp": 1650392799487,
     "user": {
      "displayName": "leonardo razo islas",
      "userId": "02744200947474546211"
     },
     "user_tz": 300
    },
    "id": "_RFTJwKx9KQO",
    "outputId": "a0b576e5-663d-48f1-ab58-b2e3936dc1df"
   },
   "outputs": [
    {
     "data": {
      "text/plain": [
       "Index(['Aflt', 'Customer', 'PostingMonth', 'PostingYear', 'Age', 'AgePhase',\n",
       "       'Breed', 'Bird', 'a', 'AB', 'AC', 'b', 'BDM', 'BF', 'BL', 'BOW', 'BOX',\n",
       "       'BSM', 'BTL', 'Bur', 'BUW', 'CCS', 'Cdv', 'CFM', 'CL', 'Clr', 'CM',\n",
       "       'CS', 'DC', 'FH', 'FP', 'gAC', 'gBR', 'Giz', 'gMI', 'gMx', 'gNX', 'gTN',\n",
       "       'GUL', 'GUW', 'HK', 'HY', 'IH', 'IP', 'IT', 'L', 'LE', 'MC', 'ML',\n",
       "       'mMX', 'NE', 'OM', 'PL', 'PRV', 'RKT', 'RW', 'RY', 'SC', 'SH', 'SPW',\n",
       "       'SX', 'TDS', 'TH', 'THY', 'TK', 'TN', 'TW', 'WC', 'I2'],\n",
       "      dtype='object')"
      ]
     },
     "execution_count": 7,
     "metadata": {},
     "output_type": "execute_result"
    }
   ],
   "source": [
    "df_db_1435.columns"
   ]
  },
  {
   "cell_type": "code",
   "execution_count": 8,
   "metadata": {
    "colab": {
     "base_uri": "https://localhost:8080/"
    },
    "executionInfo": {
     "elapsed": 166,
     "status": "ok",
     "timestamp": 1650392914338,
     "user": {
      "displayName": "leonardo razo islas",
      "userId": "02744200947474546211"
     },
     "user_tz": 300
    },
    "id": "mtIlhC7r-tvI",
    "outputId": "a02483c8-9cef-4328-93e7-45a4a027efe4"
   },
   "outputs": [
    {
     "data": {
      "text/plain": [
       "Aflt            object\n",
       "Customer         int64\n",
       "PostingMonth    object\n",
       "PostingYear      int64\n",
       "Age              int64\n",
       "                 ...  \n",
       "TK               int64\n",
       "TN               int64\n",
       "TW               int64\n",
       "WC               int64\n",
       "I2               int64\n",
       "Length: 69, dtype: object"
      ]
     },
     "execution_count": 8,
     "metadata": {},
     "output_type": "execute_result"
    }
   ],
   "source": [
    "# Se revisan los tipos de datos, solo para verificar que no estuvieran como strings\n",
    "\n",
    "df_db_1435.dtypes"
   ]
  },
  {
   "cell_type": "code",
   "execution_count": 9,
   "metadata": {
    "colab": {
     "base_uri": "https://localhost:8080/"
    },
    "executionInfo": {
     "elapsed": 788,
     "status": "ok",
     "timestamp": 1650392963105,
     "user": {
      "displayName": "leonardo razo islas",
      "userId": "02744200947474546211"
     },
     "user_tz": 300
    },
    "id": "RmJ5nhyXR1Jc",
    "outputId": "d3c5acd1-0dec-4e97-b76e-459ce148524b"
   },
   "outputs": [
    {
     "data": {
      "text/plain": [
       "LinearRegression()"
      ]
     },
     "execution_count": 9,
     "metadata": {},
     "output_type": "execute_result"
    }
   ],
   "source": [
    "# Se hace el objeto para entrenar el modelo de regresion multlinear y el split de test y train\n",
    "\n",
    "lr_multple=linear_model.LinearRegression()\n",
    "x_train,x_test,y_train,y_test = train_test_split(df_db_1435.iloc[:,8:-1],df_db_1435.iloc[:,-1],test_size=0.2)\n",
    "\n",
    "lr_multple.fit(x_train,y_train)"
   ]
  },
  {
   "cell_type": "code",
   "execution_count": 10,
   "metadata": {
    "id": "ErWmOz89HH3J"
   },
   "outputs": [],
   "source": [
    "# Se genera la prediccion \n",
    "\n",
    "y_predict=lr_multple.predict(x_test)"
   ]
  },
  {
   "cell_type": "code",
   "execution_count": 11,
   "metadata": {
    "colab": {
     "base_uri": "https://localhost:8080/"
    },
    "executionInfo": {
     "elapsed": 175,
     "status": "ok",
     "timestamp": 1650392968814,
     "user": {
      "displayName": "leonardo razo islas",
      "userId": "02744200947474546211"
     },
     "user_tz": 300
    },
    "id": "8wER_kLgHByj",
    "outputId": "06269c08-bc6a-4b84-c06f-97179b240825"
   },
   "outputs": [
    {
     "name": "stdout",
     "output_type": "stream",
     "text": [
      "valor de los coeficientes\n",
      "[-1.98546621e-14  4.28303226e-14 -7.57865992e-14  4.66293670e-15\n",
      "  6.97220059e-14 -1.77635684e-14 -1.00000000e+00 -2.22044605e-16\n",
      "  1.11022302e-15  1.55431223e-15  1.53121960e-12  4.70734562e-14\n",
      " -7.10542736e-15  9.76996262e-15 -9.28146449e-14  5.32240918e-12\n",
      " -1.06581410e-14 -7.54951657e-15 -2.22044605e-15 -3.00000000e+00\n",
      "  3.07864845e-13 -1.57207580e-13 -2.00000000e+00 -3.00000000e+00\n",
      " -1.33226763e-15 -3.00000000e+00 -2.00000000e+00 -5.00000000e+00\n",
      "  3.10862447e-15 -2.00000000e+00 -5.55111512e-16  0.00000000e+00\n",
      " -2.89546165e-13 -5.00000000e+00 -1.00000000e+00 -9.63673585e-14\n",
      " -2.00000000e+00 -7.05879799e-13 -4.00790512e-14 -3.00000000e+00\n",
      " -2.00000000e+00 -3.55271368e-15 -5.00000000e+01 -8.31112956e-13\n",
      "  0.00000000e+00 -3.00000000e+00  2.74891221e-13  0.00000000e+00\n",
      "  9.32587341e-15  6.25055563e-14 -5.12478948e-13  0.00000000e+00\n",
      "  7.54396545e-14  5.91748872e-14 -3.00000000e+00 -9.21485110e-15\n",
      " -3.00000000e+00  2.86881630e-13 -1.00000000e+00 -2.00000000e+00] \n",
      "\n",
      "valor del intercepto\n",
      "100.00000000000033 \n",
      "\n",
      "score del entrenamiento\n",
      "1.0 \n",
      "\n",
      "score del test\n",
      "1.0\n"
     ]
    }
   ],
   "source": [
    "print('valor de los coeficientes')\n",
    "print(lr_multple.coef_,'\\n')\n",
    "\n",
    "print('valor del intercepto')\n",
    "print(lr_multple.intercept_,'\\n')\n",
    "\n",
    "print('score del entrenamiento')\n",
    "print(lr_multple.score(x_train,y_train),'\\n')\n",
    "\n",
    "print('score del test')\n",
    "print(lr_multple.score(x_test,y_test))"
   ]
  },
  {
   "cell_type": "code",
   "execution_count": 12,
   "metadata": {
    "colab": {
     "base_uri": "https://localhost:8080/",
     "height": 183
    },
    "executionInfo": {
     "elapsed": 12,
     "status": "error",
     "timestamp": 1650812093756,
     "user": {
      "displayName": "ashwin bhat",
      "userId": "06685235675778711727"
     },
     "user_tz": 300
    },
    "id": "TMQiQ_dTJT9r",
    "outputId": "dcabd738-afa6-41d2-fa50-6e50e9cdc4c4"
   },
   "outputs": [
    {
     "data": {
      "text/plain": [
       "array([-40.])"
      ]
     },
     "execution_count": 12,
     "metadata": {},
     "output_type": "execute_result"
    }
   ],
   "source": [
    "# Valoracion con maximo daño\n",
    "\n",
    "lr_multple.predict(np.array(df_db_1435.iloc[:,8:-1].max()).reshape(1,-1))"
   ]
  },
  {
   "cell_type": "code",
   "execution_count": 13,
   "metadata": {
    "colab": {
     "base_uri": "https://localhost:8080/"
    },
    "executionInfo": {
     "elapsed": 190,
     "status": "ok",
     "timestamp": 1650393061833,
     "user": {
      "displayName": "leonardo razo islas",
      "userId": "02744200947474546211"
     },
     "user_tz": 300
    },
    "id": "2Gs4_ZcIKxWv",
    "outputId": "af23a741-a668-447b-e644-697b28f4faaf"
   },
   "outputs": [
    {
     "data": {
      "text/plain": [
       "array([100.])"
      ]
     },
     "execution_count": 13,
     "metadata": {},
     "output_type": "execute_result"
    }
   ],
   "source": [
    "# Valoracion con minimo daño , lo cual hace sentido porque todos los pollos inician con calificacion de 100\n",
    "\n",
    "lr_multple.predict(np.array(df_db_1435.iloc[:,8:-1].min()).reshape(1,-1))"
   ]
  },
  {
   "cell_type": "code",
   "execution_count": 14,
   "metadata": {
    "colab": {
     "base_uri": "https://localhost:8080/",
     "height": 518
    },
    "executionInfo": {
     "elapsed": 1339,
     "status": "ok",
     "timestamp": 1650393828642,
     "user": {
      "displayName": "leonardo razo islas",
      "userId": "02744200947474546211"
     },
     "user_tz": 300
    },
    "id": "egXYt0o0Iwcs",
    "outputId": "f5b69eda-7768-4abf-f6e5-1442d23dd8fc"
   },
   "outputs": [
    {
     "data": {
      "image/png": "[encoded data removed]",
      "text/plain": [
       "<Figure size 1440x576 with 1 Axes>"
      ]
     },
     "metadata": {
      "needs_background": "light"
     },
     "output_type": "display_data"
    }
   ],
   "source": [
    "plt.rcParams[\"figure.figsize\"] = (20,8)\n",
    "plt.plot(df_db_1435.columns[8:-1],lr_multple.coef_)\n",
    "plt.title('Variables Vs coeficiente', fontsize=14)\n",
    "plt.xlabel('variable', fontsize=14)\n",
    "plt.ylabel('peso de la variable', fontsize=14)\n",
    "#plt.grid(True)\n",
    "plt.show()"
   ]
  },
  {
   "cell_type": "code",
   "execution_count": 15,
   "metadata": {
    "colab": {
     "base_uri": "https://localhost:8080/"
    },
    "executionInfo": {
     "elapsed": 200,
     "status": "ok",
     "timestamp": 1650394510226,
     "user": {
      "displayName": "leonardo razo islas",
      "userId": "02744200947474546211"
     },
     "user_tz": 300
    },
    "id": "EljhCcj8JypP",
    "outputId": "b526f607-d508-454f-bc03-ab77809867e8"
   },
   "outputs": [
    {
     "data": {
      "text/plain": [
       "array(['a', 'AB', 'AC', 'b', 'BDM', 'BF', 'BOW', 'BOX', 'BSM', 'BTL',\n",
       "       'Bur', 'BUW', 'CCS', 'Cdv', 'CFM', 'CL', 'Clr', 'CM', 'DC', 'FH',\n",
       "       'gBR', 'gNX', 'GUL', 'GUW', 'HK', 'IP', 'L', 'LE', 'mMX', 'OM',\n",
       "       'PL', 'RKT', 'RW', 'RY', 'SC', 'SH', 'SPW', 'SX', 'TDS', 'THY',\n",
       "       'TN'], dtype='<U3')"
      ]
     },
     "execution_count": 15,
     "metadata": {},
     "output_type": "execute_result"
    }
   ],
   "source": [
    "# Se buscan las variables con poco peso\n",
    "\n",
    "col_name=np.array(df_db_1435.iloc[:,8:-1].columns.tolist())     \n",
    "var_less_weight = col_name[abs(lr_multple.coef_)< 0.01]\n",
    "var_less_weight"
   ]
  },
  {
   "cell_type": "code",
   "execution_count": 16,
   "metadata": {
    "id": "NAdBCadyJyrf"
   },
   "outputs": [],
   "source": [
    "# Se remueven las variables con poco peso\n",
    "\n",
    "df_db_1435.drop(var_less_weight,axis=1, inplace=True)"
   ]
  },
  {
   "cell_type": "code",
   "execution_count": 17,
   "metadata": {
    "colab": {
     "base_uri": "https://localhost:8080/"
    },
    "executionInfo": {
     "elapsed": 154,
     "status": "ok",
     "timestamp": 1650394587915,
     "user": {
      "displayName": "leonardo razo islas",
      "userId": "02744200947474546211"
     },
     "user_tz": 300
    },
    "id": "ZZTPRfmjJytf",
    "outputId": "381c67ba-738a-4466-ca83-98c4a9e18b9d"
   },
   "outputs": [
    {
     "data": {
      "text/plain": [
       "Index(['Aflt', 'Customer', 'PostingMonth', 'PostingYear', 'Age', 'AgePhase',\n",
       "       'Breed', 'Bird', 'BL', 'CS', 'FP', 'gAC', 'Giz', 'gMI', 'gMx', 'gTN',\n",
       "       'HY', 'IH', 'IT', 'MC', 'ML', 'NE', 'PRV', 'TH', 'TK', 'TW', 'WC',\n",
       "       'I2'],\n",
       "      dtype='object')"
      ]
     },
     "execution_count": 17,
     "metadata": {},
     "output_type": "execute_result"
    }
   ],
   "source": [
    "df_db_1435.columns"
   ]
  },
  {
   "cell_type": "code",
   "execution_count": 18,
   "metadata": {
    "colab": {
     "base_uri": "https://localhost:8080/"
    },
    "executionInfo": {
     "elapsed": 264,
     "status": "ok",
     "timestamp": 1650394777091,
     "user": {
      "displayName": "leonardo razo islas",
      "userId": "02744200947474546211"
     },
     "user_tz": 300
    },
    "id": "JxJkObmyJyvd",
    "outputId": "5076e7ad-598a-4c4d-e217-fbe2ce9e07cb"
   },
   "outputs": [
    {
     "data": {
      "text/plain": [
       "LinearRegression()"
      ]
     },
     "execution_count": 18,
     "metadata": {},
     "output_type": "execute_result"
    }
   ],
   "source": [
    "# Se vuelve hacer el entrenamiento del modelo y el split test train\n",
    "\n",
    "x_train,x_test,y_train,y_test = train_test_split(df_db_1435.iloc[:,8:-1],df_db_1435.iloc[:,-1],test_size=0.2)\n",
    "\n",
    "lr_multple.fit(x_train,y_train)"
   ]
  },
  {
   "cell_type": "code",
   "execution_count": 19,
   "metadata": {
    "colab": {
     "base_uri": "https://localhost:8080/"
    },
    "executionInfo": {
     "elapsed": 151,
     "status": "ok",
     "timestamp": 1650394800190,
     "user": {
      "displayName": "leonardo razo islas",
      "userId": "02744200947474546211"
     },
     "user_tz": 300
    },
    "id": "kJ9I1wzwJyyY",
    "outputId": "2a748c8f-0c47-444e-a2d8-8deb7faa529c"
   },
   "outputs": [
    {
     "name": "stdout",
     "output_type": "stream",
     "text": [
      "valor de los coeficientes\n",
      "[ -1.  -3.  -2.  -3.  -3.  -2.  -5.  -2.  -5.  -1.  -2.  -3.  -2. -50.\n",
      "  -3.  -3.  -3.  -1.  -2.] \n",
      "\n",
      "valor del intercepto\n",
      "100.0000000000001 \n",
      "\n",
      "score del entrenamiento\n",
      "1.0 \n",
      "\n",
      "score del test\n",
      "1.0\n"
     ]
    }
   ],
   "source": [
    "print('valor de los coeficientes')\n",
    "print(lr_multple.coef_,'\\n')\n",
    "\n",
    "print('valor del intercepto')\n",
    "print(lr_multple.intercept_,'\\n')\n",
    "\n",
    "print('score del entrenamiento')\n",
    "print(lr_multple.score(x_train,y_train),'\\n')\n",
    "\n",
    "print('score del test')\n",
    "print(lr_multple.score(x_test,y_test))"
   ]
  },
  {
   "cell_type": "code",
   "execution_count": 20,
   "metadata": {
    "colab": {
     "base_uri": "https://localhost:8080/",
     "height": 409
    },
    "executionInfo": {
     "elapsed": 3244,
     "status": "ok",
     "timestamp": 1650395054262,
     "user": {
      "displayName": "leonardo razo islas",
      "userId": "02744200947474546211"
     },
     "user_tz": 300
    },
    "id": "RxqxyEGHJy1A",
    "outputId": "06c4f651-47c1-4c48-daf1-5925c8aa58c8"
   },
   "outputs": [
    {
     "data": {
      "image/png": "[encoded data removed]",
      "text/plain": [
       "<Figure size 1008x432 with 1 Axes>"
      ]
     },
     "metadata": {
      "needs_background": "light"
     },
     "output_type": "display_data"
    }
   ],
   "source": [
    "plt.rcParams[\"figure.figsize\"] = (14,6)\n",
    "plt.plot(df_db_1435.columns[8:-1],lr_multple.coef_)\n",
    "plt.title('Variables Vs coeficiente', fontsize=14)\n",
    "plt.xlabel('variable', fontsize=14)\n",
    "plt.ylabel('peso de la variable', fontsize=14)\n",
    "#plt.grid(True)\n",
    "plt.show()"
   ]
  },
  {
   "cell_type": "code",
   "execution_count": 21,
   "metadata": {
    "colab": {
     "base_uri": "https://localhost:8080/",
     "height": 112
    },
    "executionInfo": {
     "elapsed": 16,
     "status": "ok",
     "timestamp": 1650395672534,
     "user": {
      "displayName": "leonardo razo islas",
      "userId": "02744200947474546211"
     },
     "user_tz": 300
    },
    "id": "MksWumlSO9Gs",
    "outputId": "3c7f54d1-57ce-455d-d5ec-8c40af2d27fa"
   },
   "outputs": [
    {
     "data": {
      "text/html": [
       "<div>\n",
       "<style scoped>\n",
       "    .dataframe tbody tr th:only-of-type {\n",
       "        vertical-align: middle;\n",
       "    }\n",
       "\n",
       "    .dataframe tbody tr th {\n",
       "        vertical-align: top;\n",
       "    }\n",
       "\n",
       "    .dataframe thead th {\n",
       "        text-align: right;\n",
       "    }\n",
       "</style>\n",
       "<table border=\"1\" class=\"dataframe\">\n",
       "  <thead>\n",
       "    <tr style=\"text-align: right;\">\n",
       "      <th></th>\n",
       "      <th>0</th>\n",
       "      <th>1</th>\n",
       "      <th>2</th>\n",
       "      <th>3</th>\n",
       "      <th>4</th>\n",
       "      <th>5</th>\n",
       "      <th>6</th>\n",
       "      <th>7</th>\n",
       "      <th>8</th>\n",
       "      <th>9</th>\n",
       "      <th>10</th>\n",
       "      <th>11</th>\n",
       "      <th>12</th>\n",
       "      <th>13</th>\n",
       "      <th>14</th>\n",
       "      <th>15</th>\n",
       "      <th>16</th>\n",
       "      <th>17</th>\n",
       "      <th>18</th>\n",
       "    </tr>\n",
       "  </thead>\n",
       "  <tbody>\n",
       "    <tr>\n",
       "      <th>0</th>\n",
       "      <td>BL</td>\n",
       "      <td>CS</td>\n",
       "      <td>FP</td>\n",
       "      <td>gAC</td>\n",
       "      <td>Giz</td>\n",
       "      <td>gMI</td>\n",
       "      <td>gMx</td>\n",
       "      <td>gTN</td>\n",
       "      <td>HY</td>\n",
       "      <td>IH</td>\n",
       "      <td>IT</td>\n",
       "      <td>MC</td>\n",
       "      <td>ML</td>\n",
       "      <td>NE</td>\n",
       "      <td>PRV</td>\n",
       "      <td>TH</td>\n",
       "      <td>TK</td>\n",
       "      <td>TW</td>\n",
       "      <td>WC</td>\n",
       "    </tr>\n",
       "    <tr>\n",
       "      <th>1</th>\n",
       "      <td>-1.0</td>\n",
       "      <td>-3.0</td>\n",
       "      <td>-2.0</td>\n",
       "      <td>-3.0</td>\n",
       "      <td>-3.0</td>\n",
       "      <td>-2.0</td>\n",
       "      <td>-5.0</td>\n",
       "      <td>-2.0</td>\n",
       "      <td>-5.0</td>\n",
       "      <td>-1.0</td>\n",
       "      <td>-2.0</td>\n",
       "      <td>-3.0</td>\n",
       "      <td>-2.0</td>\n",
       "      <td>-50.0</td>\n",
       "      <td>-3.0</td>\n",
       "      <td>-3.0</td>\n",
       "      <td>-3.0</td>\n",
       "      <td>-1.0</td>\n",
       "      <td>-2.0</td>\n",
       "    </tr>\n",
       "  </tbody>\n",
       "</table>\n",
       "</div>"
      ],
      "text/plain": [
       "    0    1    2    3    4    5    6    7    8    9    10   11   12    13   14  \\\n",
       "0   BL   CS   FP  gAC  Giz  gMI  gMx  gTN   HY   IH   IT   MC   ML    NE  PRV   \n",
       "1 -1.0 -3.0 -2.0 -3.0 -3.0 -2.0 -5.0 -2.0 -5.0 -1.0 -2.0 -3.0 -2.0 -50.0 -3.0   \n",
       "\n",
       "    15   16   17   18  \n",
       "0   TH   TK   TW   WC  \n",
       "1 -3.0 -3.0 -1.0 -2.0  "
      ]
     },
     "execution_count": 21,
     "metadata": {},
     "output_type": "execute_result"
    }
   ],
   "source": [
    "# Variables y Coeficientes\n",
    "\n",
    "pd.DataFrame([df_db_1435.columns[8:-1],lr_multple.coef_])"
   ]
  },
  {
   "cell_type": "code",
   "execution_count": 22,
   "metadata": {
    "colab": {
     "base_uri": "https://localhost:8080/",
     "height": 424
    },
    "executionInfo": {
     "elapsed": 421,
     "status": "ok",
     "timestamp": 1650395198089,
     "user": {
      "displayName": "leonardo razo islas",
      "userId": "02744200947474546211"
     },
     "user_tz": 300
    },
    "id": "w0dFBJj2Mg9g",
    "outputId": "da1e905a-f94c-426d-cb2e-e85ddce37436"
   },
   "outputs": [
    {
     "data": {
      "text/html": [
       "<div>\n",
       "<style scoped>\n",
       "    .dataframe tbody tr th:only-of-type {\n",
       "        vertical-align: middle;\n",
       "    }\n",
       "\n",
       "    .dataframe tbody tr th {\n",
       "        vertical-align: top;\n",
       "    }\n",
       "\n",
       "    .dataframe thead th {\n",
       "        text-align: right;\n",
       "    }\n",
       "</style>\n",
       "<table border=\"1\" class=\"dataframe\">\n",
       "  <thead>\n",
       "    <tr style=\"text-align: right;\">\n",
       "      <th></th>\n",
       "      <th>BL</th>\n",
       "      <th>CS</th>\n",
       "      <th>FP</th>\n",
       "      <th>gAC</th>\n",
       "      <th>Giz</th>\n",
       "      <th>gMI</th>\n",
       "      <th>gMx</th>\n",
       "      <th>gTN</th>\n",
       "      <th>HY</th>\n",
       "      <th>IH</th>\n",
       "      <th>IT</th>\n",
       "      <th>MC</th>\n",
       "      <th>ML</th>\n",
       "      <th>NE</th>\n",
       "      <th>PRV</th>\n",
       "      <th>TH</th>\n",
       "      <th>TK</th>\n",
       "      <th>TW</th>\n",
       "      <th>WC</th>\n",
       "      <th>I2</th>\n",
       "    </tr>\n",
       "  </thead>\n",
       "  <tbody>\n",
       "    <tr>\n",
       "      <th>1</th>\n",
       "      <td>0</td>\n",
       "      <td>0</td>\n",
       "      <td>0</td>\n",
       "      <td>0</td>\n",
       "      <td>0</td>\n",
       "      <td>0</td>\n",
       "      <td>0</td>\n",
       "      <td>0</td>\n",
       "      <td>0</td>\n",
       "      <td>0</td>\n",
       "      <td>0</td>\n",
       "      <td>0</td>\n",
       "      <td>0</td>\n",
       "      <td>0</td>\n",
       "      <td>0</td>\n",
       "      <td>0</td>\n",
       "      <td>0</td>\n",
       "      <td>0</td>\n",
       "      <td>0</td>\n",
       "      <td>100</td>\n",
       "    </tr>\n",
       "    <tr>\n",
       "      <th>2</th>\n",
       "      <td>0</td>\n",
       "      <td>0</td>\n",
       "      <td>0</td>\n",
       "      <td>0</td>\n",
       "      <td>0</td>\n",
       "      <td>0</td>\n",
       "      <td>0</td>\n",
       "      <td>0</td>\n",
       "      <td>0</td>\n",
       "      <td>0</td>\n",
       "      <td>0</td>\n",
       "      <td>0</td>\n",
       "      <td>0</td>\n",
       "      <td>0</td>\n",
       "      <td>0</td>\n",
       "      <td>0</td>\n",
       "      <td>0</td>\n",
       "      <td>0</td>\n",
       "      <td>0</td>\n",
       "      <td>100</td>\n",
       "    </tr>\n",
       "    <tr>\n",
       "      <th>4</th>\n",
       "      <td>0</td>\n",
       "      <td>0</td>\n",
       "      <td>0</td>\n",
       "      <td>0</td>\n",
       "      <td>0</td>\n",
       "      <td>0</td>\n",
       "      <td>0</td>\n",
       "      <td>0</td>\n",
       "      <td>0</td>\n",
       "      <td>0</td>\n",
       "      <td>0</td>\n",
       "      <td>0</td>\n",
       "      <td>0</td>\n",
       "      <td>0</td>\n",
       "      <td>0</td>\n",
       "      <td>0</td>\n",
       "      <td>0</td>\n",
       "      <td>0</td>\n",
       "      <td>0</td>\n",
       "      <td>100</td>\n",
       "    </tr>\n",
       "    <tr>\n",
       "      <th>10</th>\n",
       "      <td>0</td>\n",
       "      <td>0</td>\n",
       "      <td>0</td>\n",
       "      <td>0</td>\n",
       "      <td>0</td>\n",
       "      <td>0</td>\n",
       "      <td>0</td>\n",
       "      <td>0</td>\n",
       "      <td>0</td>\n",
       "      <td>0</td>\n",
       "      <td>0</td>\n",
       "      <td>0</td>\n",
       "      <td>0</td>\n",
       "      <td>0</td>\n",
       "      <td>0</td>\n",
       "      <td>0</td>\n",
       "      <td>0</td>\n",
       "      <td>0</td>\n",
       "      <td>0</td>\n",
       "      <td>100</td>\n",
       "    </tr>\n",
       "    <tr>\n",
       "      <th>27</th>\n",
       "      <td>0</td>\n",
       "      <td>0</td>\n",
       "      <td>0</td>\n",
       "      <td>0</td>\n",
       "      <td>0</td>\n",
       "      <td>0</td>\n",
       "      <td>0</td>\n",
       "      <td>0</td>\n",
       "      <td>0</td>\n",
       "      <td>0</td>\n",
       "      <td>0</td>\n",
       "      <td>0</td>\n",
       "      <td>0</td>\n",
       "      <td>0</td>\n",
       "      <td>0</td>\n",
       "      <td>0</td>\n",
       "      <td>0</td>\n",
       "      <td>0</td>\n",
       "      <td>0</td>\n",
       "      <td>100</td>\n",
       "    </tr>\n",
       "    <tr>\n",
       "      <th>...</th>\n",
       "      <td>...</td>\n",
       "      <td>...</td>\n",
       "      <td>...</td>\n",
       "      <td>...</td>\n",
       "      <td>...</td>\n",
       "      <td>...</td>\n",
       "      <td>...</td>\n",
       "      <td>...</td>\n",
       "      <td>...</td>\n",
       "      <td>...</td>\n",
       "      <td>...</td>\n",
       "      <td>...</td>\n",
       "      <td>...</td>\n",
       "      <td>...</td>\n",
       "      <td>...</td>\n",
       "      <td>...</td>\n",
       "      <td>...</td>\n",
       "      <td>...</td>\n",
       "      <td>...</td>\n",
       "      <td>...</td>\n",
       "    </tr>\n",
       "    <tr>\n",
       "      <th>28012</th>\n",
       "      <td>0</td>\n",
       "      <td>0</td>\n",
       "      <td>0</td>\n",
       "      <td>0</td>\n",
       "      <td>0</td>\n",
       "      <td>0</td>\n",
       "      <td>0</td>\n",
       "      <td>0</td>\n",
       "      <td>0</td>\n",
       "      <td>0</td>\n",
       "      <td>0</td>\n",
       "      <td>0</td>\n",
       "      <td>0</td>\n",
       "      <td>0</td>\n",
       "      <td>0</td>\n",
       "      <td>0</td>\n",
       "      <td>0</td>\n",
       "      <td>0</td>\n",
       "      <td>0</td>\n",
       "      <td>100</td>\n",
       "    </tr>\n",
       "    <tr>\n",
       "      <th>28044</th>\n",
       "      <td>0</td>\n",
       "      <td>0</td>\n",
       "      <td>0</td>\n",
       "      <td>0</td>\n",
       "      <td>0</td>\n",
       "      <td>0</td>\n",
       "      <td>0</td>\n",
       "      <td>0</td>\n",
       "      <td>0</td>\n",
       "      <td>0</td>\n",
       "      <td>0</td>\n",
       "      <td>0</td>\n",
       "      <td>0</td>\n",
       "      <td>0</td>\n",
       "      <td>0</td>\n",
       "      <td>0</td>\n",
       "      <td>0</td>\n",
       "      <td>0</td>\n",
       "      <td>0</td>\n",
       "      <td>100</td>\n",
       "    </tr>\n",
       "    <tr>\n",
       "      <th>28065</th>\n",
       "      <td>0</td>\n",
       "      <td>0</td>\n",
       "      <td>0</td>\n",
       "      <td>0</td>\n",
       "      <td>0</td>\n",
       "      <td>0</td>\n",
       "      <td>0</td>\n",
       "      <td>0</td>\n",
       "      <td>0</td>\n",
       "      <td>0</td>\n",
       "      <td>0</td>\n",
       "      <td>0</td>\n",
       "      <td>0</td>\n",
       "      <td>0</td>\n",
       "      <td>0</td>\n",
       "      <td>0</td>\n",
       "      <td>0</td>\n",
       "      <td>0</td>\n",
       "      <td>0</td>\n",
       "      <td>100</td>\n",
       "    </tr>\n",
       "    <tr>\n",
       "      <th>28066</th>\n",
       "      <td>0</td>\n",
       "      <td>0</td>\n",
       "      <td>0</td>\n",
       "      <td>0</td>\n",
       "      <td>0</td>\n",
       "      <td>0</td>\n",
       "      <td>0</td>\n",
       "      <td>0</td>\n",
       "      <td>0</td>\n",
       "      <td>0</td>\n",
       "      <td>0</td>\n",
       "      <td>0</td>\n",
       "      <td>0</td>\n",
       "      <td>0</td>\n",
       "      <td>0</td>\n",
       "      <td>0</td>\n",
       "      <td>0</td>\n",
       "      <td>0</td>\n",
       "      <td>0</td>\n",
       "      <td>100</td>\n",
       "    </tr>\n",
       "    <tr>\n",
       "      <th>28129</th>\n",
       "      <td>0</td>\n",
       "      <td>0</td>\n",
       "      <td>0</td>\n",
       "      <td>0</td>\n",
       "      <td>0</td>\n",
       "      <td>0</td>\n",
       "      <td>0</td>\n",
       "      <td>0</td>\n",
       "      <td>0</td>\n",
       "      <td>0</td>\n",
       "      <td>0</td>\n",
       "      <td>0</td>\n",
       "      <td>0</td>\n",
       "      <td>0</td>\n",
       "      <td>0</td>\n",
       "      <td>0</td>\n",
       "      <td>0</td>\n",
       "      <td>0</td>\n",
       "      <td>0</td>\n",
       "      <td>100</td>\n",
       "    </tr>\n",
       "  </tbody>\n",
       "</table>\n",
       "<p>6057 rows × 20 columns</p>\n",
       "</div>"
      ],
      "text/plain": [
       "       BL  CS  FP  gAC  Giz  gMI  gMx  gTN  HY  IH  IT  MC  ML  NE  PRV  TH  \\\n",
       "1       0   0   0    0    0    0    0    0   0   0   0   0   0   0    0   0   \n",
       "2       0   0   0    0    0    0    0    0   0   0   0   0   0   0    0   0   \n",
       "4       0   0   0    0    0    0    0    0   0   0   0   0   0   0    0   0   \n",
       "10      0   0   0    0    0    0    0    0   0   0   0   0   0   0    0   0   \n",
       "27      0   0   0    0    0    0    0    0   0   0   0   0   0   0    0   0   \n",
       "...    ..  ..  ..  ...  ...  ...  ...  ...  ..  ..  ..  ..  ..  ..  ...  ..   \n",
       "28012   0   0   0    0    0    0    0    0   0   0   0   0   0   0    0   0   \n",
       "28044   0   0   0    0    0    0    0    0   0   0   0   0   0   0    0   0   \n",
       "28065   0   0   0    0    0    0    0    0   0   0   0   0   0   0    0   0   \n",
       "28066   0   0   0    0    0    0    0    0   0   0   0   0   0   0    0   0   \n",
       "28129   0   0   0    0    0    0    0    0   0   0   0   0   0   0    0   0   \n",
       "\n",
       "       TK  TW  WC   I2  \n",
       "1       0   0   0  100  \n",
       "2       0   0   0  100  \n",
       "4       0   0   0  100  \n",
       "10      0   0   0  100  \n",
       "27      0   0   0  100  \n",
       "...    ..  ..  ..  ...  \n",
       "28012   0   0   0  100  \n",
       "28044   0   0   0  100  \n",
       "28065   0   0   0  100  \n",
       "28066   0   0   0  100  \n",
       "28129   0   0   0  100  \n",
       "\n",
       "[6057 rows x 20 columns]"
      ]
     },
     "execution_count": 22,
     "metadata": {},
     "output_type": "execute_result"
    }
   ],
   "source": [
    "# Errores 0_1\n",
    "# Porque si no tiene erores el I2 sale diferente a 100\n",
    "\n",
    "df_db_1435.iloc[:,8:][ (df_db_1435.iloc[:,8:-1].sum(axis=1)==0) & (df_db_1435.I2 == 100) ]"
   ]
  },
  {
   "cell_type": "code",
   "execution_count": 23,
   "metadata": {
    "colab": {
     "base_uri": "https://localhost:8080/",
     "height": 49
    },
    "executionInfo": {
     "elapsed": 164,
     "status": "ok",
     "timestamp": 1650395211797,
     "user": {
      "displayName": "leonardo razo islas",
      "userId": "02744200947474546211"
     },
     "user_tz": 300
    },
    "id": "gHJSlk6aMg_P",
    "outputId": "b6250cfc-0c56-4056-ea39-a1bc8cd32f67"
   },
   "outputs": [
    {
     "data": {
      "text/html": [
       "<div>\n",
       "<style scoped>\n",
       "    .dataframe tbody tr th:only-of-type {\n",
       "        vertical-align: middle;\n",
       "    }\n",
       "\n",
       "    .dataframe tbody tr th {\n",
       "        vertical-align: top;\n",
       "    }\n",
       "\n",
       "    .dataframe thead th {\n",
       "        text-align: right;\n",
       "    }\n",
       "</style>\n",
       "<table border=\"1\" class=\"dataframe\">\n",
       "  <thead>\n",
       "    <tr style=\"text-align: right;\">\n",
       "      <th></th>\n",
       "      <th>BL</th>\n",
       "      <th>CS</th>\n",
       "      <th>FP</th>\n",
       "      <th>gAC</th>\n",
       "      <th>Giz</th>\n",
       "      <th>gMI</th>\n",
       "      <th>gMx</th>\n",
       "      <th>gTN</th>\n",
       "      <th>HY</th>\n",
       "      <th>IH</th>\n",
       "      <th>IT</th>\n",
       "      <th>MC</th>\n",
       "      <th>ML</th>\n",
       "      <th>NE</th>\n",
       "      <th>PRV</th>\n",
       "      <th>TH</th>\n",
       "      <th>TK</th>\n",
       "      <th>TW</th>\n",
       "      <th>WC</th>\n",
       "      <th>I2</th>\n",
       "    </tr>\n",
       "  </thead>\n",
       "  <tbody>\n",
       "  </tbody>\n",
       "</table>\n",
       "</div>"
      ],
      "text/plain": [
       "Empty DataFrame\n",
       "Columns: [BL, CS, FP, gAC, Giz, gMI, gMx, gTN, HY, IH, IT, MC, ML, NE, PRV, TH, TK, TW, WC, I2]\n",
       "Index: []"
      ]
     },
     "execution_count": 23,
     "metadata": {},
     "output_type": "execute_result"
    }
   ],
   "source": [
    "df_db_1435.iloc[:,8:][ (df_db_1435.iloc[:,8:-1].sum(axis=1)==0) & (df_db_1435.I2 != 100) ]"
   ]
  },
  {
   "cell_type": "markdown",
   "metadata": {},
   "source": [
    "### Lasso Regression"
   ]
  },
  {
   "cell_type": "code",
   "execution_count": 28,
   "metadata": {},
   "outputs": [
    {
     "data": {
      "text/plain": [
       "Pipeline(steps=[('standardscaler', StandardScaler()),\n",
       "                ('svr', SVR(epsilon=0.3, kernel='linear'))])"
      ]
     },
     "execution_count": 28,
     "metadata": {},
     "output_type": "execute_result"
    }
   ],
   "source": [
    "# Se crea modelo nuevo\n",
    "\n",
    "x_train,x_test,y_train,y_test = train_test_split(df_db_1435.iloc[:,8:-1],df_db_1435.iloc[:,-1],test_size=0.2)\n",
    "\n",
    "param_grid = {'kernel': ['linear'], 'C':[1, 1.5, 2, 10],'epsilon':[0.2,0.5,0.3]}\n",
    "svr = svm.SVR()\n",
    "regr = make_pipeline(StandardScaler(), SVR(kernel='linear', C=1.0, epsilon=0.3))\n",
    "#regr = GridSearchCV(svr, param_grid)\n",
    "regr.fit(x_train, y_train)"
   ]
  },
  {
   "cell_type": "code",
   "execution_count": 30,
   "metadata": {},
   "outputs": [
    {
     "name": "stdout",
     "output_type": "stream",
     "text": [
      "score: 0.9967733974952553\n"
     ]
    }
   ],
   "source": [
    "# Se hace la predicción\n",
    "\n",
    "y_pred = regr.predict(x_test)\n",
    "print(\"score:\", regr.score(x_test, y_test))"
   ]
  },
  {
   "cell_type": "code",
   "execution_count": 31,
   "metadata": {},
   "outputs": [
    {
     "name": "stdout",
     "output_type": "stream",
     "text": [
      "Explained Varainace Score: 0.997847243303374\n",
      "MAE : 0.29993045705936044\n",
      "MSE : 0.08995829671026971\n",
      "R2 score: 0.9967733974952553\n"
     ]
    }
   ],
   "source": [
    "# Se calculan los errores\n",
    "\n",
    "print(\"Explained Varainace Score:\", explained_variance_score(y_test, y_pred))\n",
    "print(\"MAE :\", mean_absolute_error(y_test, y_pred))\n",
    "print(\"MSE :\", mean_squared_error(y_test, y_pred))\n",
    "print(\"R2 score:\", r2_score(y_test, y_pred))"
   ]
  },
  {
   "cell_type": "code",
   "execution_count": 32,
   "metadata": {},
   "outputs": [
    {
     "name": "stdout",
     "output_type": "stream",
     "text": [
      "[-0.         -2.9028521  -1.59059148 -2.88608579 -2.98973968 -0.\n",
      " -4.80302318 -1.92831154 -4.86613427 -0.5726862  -1.74891044 -2.93590864\n",
      " -1.81995453 -0.         -2.90065412 -2.45398496 -2.44079515 -0.\n",
      " -1.77885897]\n",
      "99.68262459596413\n",
      "Regression with Lasso Regularisation train score: 0.9753946488818069\n",
      "Regression with Lasso Regularisation test score: 0.9955188636304915\n",
      "\n",
      "\n",
      "The model based on Lasso regression is given as:\n",
      "-2.903Customer -1.591PostingMonth -2.886PostingYear -2.99Age -4.803Breed -1.928Bird -4.866BL -0.573CS -1.749FP -2.936gAC -1.82Giz -2.901gMx -2.454gTN -2.441HY -1.779IT   +  99.68262459596413\n"
     ]
    }
   ],
   "source": [
    "# Se regulariza con Lasso\n",
    "\n",
    "reg = linear_model.Lasso(alpha=0.03)\n",
    "reg.fit(x_train,y_train )\n",
    "\n",
    "print(reg.coef_)\n",
    "print(reg.intercept_)\n",
    "print(\"Regression with Lasso Regularisation train score:\",reg.score(x_train,y_train))\n",
    "print(\"Regression with Lasso Regularisation test score:\",reg.score(x_test,y_test))\n",
    "\n",
    "col_index = [index for index,x in enumerate(reg.coef_) if x.round(3) != 0]\n",
    "\n",
    "\"\"\"\n",
    "Lasso regression is used when we have useless variables, so we find the columns whose coefficients \n",
    "to get best score.\n",
    "\n",
    "\"\"\"\n",
    "\n",
    "df_db_1435.columns[col_index]\n",
    "\n",
    "model = ''\n",
    "for i in col_index:\n",
    "    model = model + str(round(reg.coef_[i],3)) + str(df_db_1435.columns[i]) + ' '\n",
    "\n",
    "print()\n",
    "print()\n",
    "print(\"The model based on Lasso regression is given as:\")    \n",
    "print(model, ' + ' ,str(reg.intercept_))"
   ]
  },
  {
   "cell_type": "code",
   "execution_count": 33,
   "metadata": {},
   "outputs": [
    {
     "name": "stdout",
     "output_type": "stream",
     "text": [
      "[-0.         -0.45191663 -0.         -0.39768538 -1.03616601 -0.\n",
      " -0.14687288 -0.2328039  -0.63362618 -0.         -0.         -0.57212776\n",
      " -0.         -0.         -0.1988842  -0.         -0.          0.\n",
      " -0.        ]\n",
      "94.89945504039204\n",
      "Regression with Elastic Net Regularisation train score: 0.24317357279407548\n",
      "Regression with Elastic Net Regularisation test score: 0.2496333511351384\n",
      "0.0 0.35509635617602286\n",
      "0.1 0.3365018038233073\n",
      "0.2 0.3152734811919822\n",
      "0.30000000000000004 0.2942311957893893\n",
      "0.4 0.27480759245850783\n",
      "0.5 0.2496333511351384\n",
      "0.6000000000000001 0.2161064250944591\n",
      "0.7000000000000001 0.1854808692084512\n",
      "0.8 0.15061890384300214\n",
      "0.9 0.12115824721370949\n"
     ]
    },
    {
     "name": "stderr",
     "output_type": "stream",
     "text": [
      "C:\\ProgramData\\Anaconda3\\lib\\site-packages\\sklearn\\linear_model\\_coordinate_descent.py:530: ConvergenceWarning: Objective did not converge. You might want to increase the number of iterations. Duality gap: 253814.34264708046, tolerance: 63.070099651810565\n",
      "  model = cd_fast.enet_coordinate_descent(\n"
     ]
    }
   ],
   "source": [
    "# Agregaremos Ridge al Lasso para crear una ElasticNet\n",
    "\n",
    "reg = linear_model.ElasticNet(random_state=0)\n",
    "reg.fit(x_train, y_train)\n",
    "\"\"\"\n",
    "Elastic Net is used to strink the variables having high correlation, it uses the benefits of both Lasso and Ridge Regression\n",
    "\"\"\"\n",
    "print(reg.coef_)\n",
    "print(reg.intercept_)\n",
    "print(\"Regression with Elastic Net Regularisation train score:\",reg.score(x_train,y_train))\n",
    "print(\"Regression with Elastic Net Regularisation test score:\",reg.score(x_test,y_test))\n",
    "\n",
    "\n",
    "# Testing score from 0.1 to 1\n",
    "\n",
    "for i in np.arange(0,1,0.1):\n",
    "    reg = linear_model.ElasticNet(l1_ratio=i)\n",
    "    reg.fit(x_train, y_train)\n",
    "    print(i, reg.score(x_test, y_test))\n",
    "    \n",
    "# We don't get good model with ELastic Net Regression, l1_ratio=1 results in Lasso and L1_ratio=0 results in Ridge"
   ]
  }
 ],
 "metadata": {
  "colab": {
   "collapsed_sections": [],
   "name": "ProyectoOC_All.ipynb",
   "provenance": []
  },
  "kernelspec": {
   "display_name": "Python 3",
   "language": "python",
   "name": "python3"
  },
  "language_info": {
   "codemirror_mode": {
    "name": "ipython",
    "version": 3
   },
   "file_extension": ".py",
   "mimetype": "text/x-python",
   "name": "python",
   "nbconvert_exporter": "python",
   "pygments_lexer": "ipython3",
   "version": "3.8.8"
  }
 },
 "nbformat": 4,
 "nbformat_minor": 1
}
